{
 "cells": [
  {
   "cell_type": "code",
   "execution_count": 5,
   "metadata": {},
   "outputs": [
    {
     "data": {
      "text/plain": [
       "True"
      ]
     },
     "execution_count": 5,
     "metadata": {},
     "output_type": "execute_result"
    }
   ],
   "source": [
    "a = 1.000\n",
    "isinstance(a, (float, int))"
   ]
  },
  {
   "cell_type": "code",
   "execution_count": 42,
   "metadata": {},
   "outputs": [],
   "source": [
    "def check_input(variable, def_string):\n",
    "    if not (isinstance((variable), (float, int))):\n",
    "        raise ValueError(\"Please input a number for \"+ def_string + \"!\")\n",
    "    if variable <= 0:\n",
    "        raise ValueError(\"Please input a positive number for \"+ def_string + \"!\")"
   ]
  },
  {
   "cell_type": "code",
   "execution_count": 5,
   "metadata": {},
   "outputs": [],
   "source": [
    "class kaya_identity:\n",
    "    def __init__(self, pop_size: float, gdp: float, energy_intensity: float, carbon_intensity: float) -> None:\n",
    "        self.pop_size = pop_size\n",
    "        self.gdp = gdp\n",
    "        self.energy_intensity = energy_intensity\n",
    "        self.carbon_intensity = carbon_intensity\n",
    "    \n",
    "    def check_input(self, variable, def_string):\n",
    "        if not (isinstance((variable), (float, int))):\n",
    "            raise ValueError(\"Please input a number for \"+ def_string + \"!\")\n",
    "        if variable <= 0:\n",
    "            raise ValueError(\"Please input a positive number for \"+ def_string + \"!\")\n",
    "        \n",
    "    def cal_kaya_identity(self) -> float:\n",
    "        \"\"\"\n",
    "        pop_size: Population size (in millions)\n",
    "        gdp: GDP per capita (in 1000$/person)\n",
    "        energy_intensity: Energy intensity (in Gigajoule/$1000GDP)\n",
    "        carbon_intensity: Carbon intensity (in tonnes CO2/Gigajoule)\n",
    "        \n",
    "        return: carbon_intensity, \n",
    "        \"\"\"\n",
    "        kaya_identity.check_input(self, self.pop_size, \"Population size\")\n",
    "        kaya_identity.check_input(self, self.gdp, \"GDP per capita\")\n",
    "        kaya_identity.check_input(self, self.energy_intensity, \"Energy intensity\")\n",
    "        kaya_identity.check_input(self, self.carbon_intensity, \"Carbon intensity\")\n",
    "            \n",
    "        \n",
    "        kaya_iden = self.pop_size * self.gdp * self.energy_intensity * self.carbon_intensity\n",
    "        return kaya_iden"
   ]
  },
  {
   "cell_type": "code",
   "execution_count": 8,
   "metadata": {},
   "outputs": [
    {
     "ename": "TypeError",
     "evalue": "__init__() missing 4 required positional arguments: 'pop_size', 'gdp', 'energy_intensity', and 'carbon_intensity'",
     "output_type": "error",
     "traceback": [
      "\u001b[1;31m---------------------------------------------------------------------------\u001b[0m",
      "\u001b[1;31mTypeError\u001b[0m                                 Traceback (most recent call last)",
      "\u001b[1;32m~\\AppData\\Local\\Temp/ipykernel_4156/849969350.py\u001b[0m in \u001b[0;36m<module>\u001b[1;34m\u001b[0m\n\u001b[1;32m----> 1\u001b[1;33m \u001b[0mkaya_identity\u001b[0m\u001b[1;33m(\u001b[0m\u001b[1;33m)\u001b[0m\u001b[1;33m.\u001b[0m\u001b[0mcal_kaya_identity\u001b[0m\u001b[1;33m(\u001b[0m\u001b[1;33m)\u001b[0m\u001b[1;33m\u001b[0m\u001b[1;33m\u001b[0m\u001b[0m\n\u001b[0m",
      "\u001b[1;31mTypeError\u001b[0m: __init__() missing 4 required positional arguments: 'pop_size', 'gdp', 'energy_intensity', and 'carbon_intensity'"
     ]
    }
   ],
   "source": [
    "kaya_identity(1,2,1,1).cal_kaya_identity()"
   ]
  },
  {
   "cell_type": "code",
   "execution_count": 9,
   "metadata": {},
   "outputs": [
    {
     "data": {
      "text/plain": [
       "906.4000000000001"
      ]
     },
     "execution_count": 9,
     "metadata": {},
     "output_type": "execute_result"
    }
   ],
   "source": [
    "82.4*44*5*0.05"
   ]
  },
  {
   "cell_type": "code",
   "execution_count": null,
   "metadata": {},
   "outputs": [],
   "source": []
  }
 ],
 "metadata": {
  "kernelspec": {
   "display_name": "Python 3.9.5 64-bit",
   "language": "python",
   "name": "python3"
  },
  "language_info": {
   "codemirror_mode": {
    "name": "ipython",
    "version": 3
   },
   "file_extension": ".py",
   "mimetype": "text/x-python",
   "name": "python",
   "nbconvert_exporter": "python",
   "pygments_lexer": "ipython3",
   "version": "3.9.5"
  },
  "orig_nbformat": 4,
  "vscode": {
   "interpreter": {
    "hash": "df25935b99ec2a4cd8586e5ce280559874741e178bd8136094667422bad848bb"
   }
  }
 },
 "nbformat": 4,
 "nbformat_minor": 2
}
